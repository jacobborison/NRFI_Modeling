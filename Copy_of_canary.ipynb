{
  "nbformat": 4,
  "nbformat_minor": 0,
  "metadata": {
    "colab": {
      "provenance": [],
      "mount_file_id": "1ncTNjr0HpBq1W-RyRSY2mClQFDpS3U8X",
      "authorship_tag": "ABX9TyM6Xe12Rp2Z6WY0kc2ODlBT"
    },
    "kernelspec": {
      "name": "python3",
      "display_name": "Python 3"
    },
    "language_info": {
      "name": "python"
    }
  },
  "cells": [
    {
      "cell_type": "code",
      "execution_count": null,
      "metadata": {
        "id": "7AOAhQl1dfAP"
      },
      "outputs": [],
      "source": [
        "import torch\n",
        "import torch.nn as nn\n",
        "import os\n",
        "import pandas as pd\n",
        "import random\n",
        "import numpy as np\n",
        "import torch.optim as optim\n",
        "from torch.utils.data import TensorDataset, DataLoader\n",
        "import pandas as pd\n",
        "import os\n",
        "import matplotlib.pyplot as plt\n",
        "import torch.nn.functional as F"
      ]
    },
    {
      "cell_type": "code",
      "source": [
        "# game_data = pd.read_csv('drive/MyDrive/games.csv')\n",
        "# bat_data = pd.read_csv('drive/MyDrive/batting_data.csv')\n",
        "# pitch_data = pd.read_csv('drive/MyDrive/pitching_data.csv')\n",
        "\n",
        "game_data = pd.concat([\n",
        "    pd.read_csv('drive/MyDrive/games.csv'),\n",
        "    pd.read_csv('drive/MyDrive/gl2022.csv', header=None, names=[str(i+1) for i in range(161)]),\n",
        "    pd.read_csv('drive/MyDrive/gl2021.csv', header=None, names=[str(i+1) for i in range(161)]),\n",
        "    pd.read_csv('drive/MyDrive/gl2020.csv', header=None, names=[str(i+1) for i in range(161)]),\n",
        "    pd.read_csv('drive/MyDrive/gl2019.csv', header=None, names=[str(i+1) for i in range(161)])\n",
        "], axis = 0)\n",
        "bat_data = pd.read_csv('drive/MyDrive/curr_batting.csv')#bat_car.csv')#drive/MyDrive/Splits Leaderboard Data Batting 1st Batting 3rd Batting 2nd Batting 4th Batting 5th Batting 6th 1st Inning.csv')\n",
        "pitch_data = pd.read_csv('drive/MyDrive/curr_pitching.csv')#drive/MyDrive/Splits Leaderboard Data 1st Inning 1st Time Through Order as SP.csv')"
      ],
      "metadata": {
        "id": "_4z1XHaqhgZz"
      },
      "execution_count": null,
      "outputs": []
    },
    {
      "cell_type": "code",
      "source": [
        "max_pitch_values = []\n",
        "for col in pitch_data.iloc[:, 4:-1].columns:\n",
        "  max_pitch_values.append(pitch_data[col].max())\n",
        "\n",
        "max_bat_values = []\n",
        "for col in bat_data.iloc[:, 4:-1].columns:\n",
        "  max_bat_values.append(bat_data[col].max())\n",
        "\n",
        "# max_pitch_values = pd.DataFrame(np.array(max_pitch_values))#, columns=pitch_data.iloc[:, 3:-1].columns)\n",
        "print(max_pitch_values)\n",
        "print(max_bat_values)\n",
        "print(len(max_bat_values), len(max_pitch_values))\n"
      ],
      "metadata": {
        "colab": {
          "base_uri": "https://localhost:8080/"
        },
        "id": "_amQF3dkj7dR",
        "outputId": "4fa806f4-4a50-40ea-dbd8-40296fc62b31"
      },
      "execution_count": null,
      "outputs": [
        {
          "output_type": "stream",
          "name": "stdout",
          "text": [
            "[700, 135.00000135, 195, 38, 6, 110, 104, 32, 73, 3, 23, 190, 0.8, 0.888888888, 2.0, 1.1111594835917156]\n",
            "[776, 694, 211, 128, 48, 8, 49, 145, 126, 140, 3, 188, 17, 11, 5, 26, 52, 21, 1.0]\n",
            "19 16\n"
          ]
        }
      ]
    },
    {
      "cell_type": "code",
      "source": [
        "print(pitch_data.columns)"
      ],
      "metadata": {
        "colab": {
          "base_uri": "https://localhost:8080/"
        },
        "id": "ndkKv1j803Hh",
        "outputId": "abf13fdf-10f8-4117-fc17-acea8db71bf6"
      },
      "execution_count": null,
      "outputs": [
        {
          "output_type": "stream",
          "name": "stdout",
          "text": [
            "Index(['Season', 'Name', 'Tm', 'G', 'TBF', 'ERA', 'H', '2B', '3B', 'R', 'ER',\n",
            "       'HR', 'BB', 'IBB', 'HBP', 'SO', 'AVG', 'OBP', 'SLG', 'wOBA',\n",
            "       'playerId'],\n",
            "      dtype='object')\n"
          ]
        }
      ]
    },
    {
      "cell_type": "code",
      "source": [
        "num_nrfi = 0\n",
        "num_nn = 0\n",
        "for game in game_data.itertuples():\n",
        "  box_scoresHA = [game[21], game[20]]\n",
        "  nrfi = 1\n",
        "  for i in box_scoresHA:\n",
        "    if i == '0' or i == 0:\n",
        "      continue\n",
        "    if i[0]== '0':\n",
        "      continue\n",
        "    elif i[0]=='(':\n",
        "      nrfi = 0\n",
        "      continue\n",
        "    elif int(i[0]) > 0:\n",
        "      nrfi = 0\n",
        "\n",
        "  if nrfi == 1:\n",
        "    num_nrfi +=1\n",
        "  else:\n",
        "    num_nn+=1\n",
        "# print(num_nrfi, num_nn)"
      ],
      "metadata": {
        "id": "tex1afrQwNZr"
      },
      "execution_count": null,
      "outputs": []
    },
    {
      "cell_type": "code",
      "source": [
        "train_data = []\n",
        "train_labels = []\n",
        "test_data = []\n",
        "test_labels = []\n",
        "no_bat_data = []\n",
        "no_pitch_data = []\n",
        "bad_pitch = 0\n",
        "bad_bat = 0\n",
        "good_games = 0\n",
        "total_game = 0\n",
        "for game in game_data.itertuples():\n",
        "  good_game = True\n",
        "  game_state_row = []\n",
        "  pitcher_namesHA = [game[105], game[103]]\n",
        "  for pitcher in pitcher_namesHA:\n",
        "    pitcher_names = [pitcher, pitcher + ' Jr.', pitcher + ' II', pitcher + ' III', ]\n",
        "    pitch_data_row = pitch_data[pitch_data['Name'].isin(pitcher_names)]\n",
        "    if pitch_data_row.empty:\n",
        "      good_game = False\n",
        "      if pitcher not in no_pitch_data:\n",
        "        print(f'Error: No data found for pitcher {pitcher}. Skipping...')\n",
        "        no_pitch_data.append(pitcher)\n",
        "      bad_pitch +=1\n",
        "      break\n",
        "    tbf = pitch_data_row['TBF'].max()\n",
        "    pitch_data_row = pitch_data_row.iloc[:, 5:-1]\n",
        "    val = 0\n",
        "    # print('ppppppp    ', len(pitch_data_row))\n",
        "    norm_list = ['TBF', 'ERA', 'H', '2B', '3B', 'R', 'ER',\n",
        "       'HR', 'BB', 'IBB', 'HBP', 'SO']\n",
        "    for i in pitch_data_row:\n",
        "      # print(i)\n",
        "      if i in norm_list:\n",
        "        game_state_row.append((pitch_data_row[i].sum() / len(pitch_data_row)) / tbf)# / max_pitch_values[val])\n",
        "      else:\n",
        "        game_state_row.append((pitch_data_row[i].sum() / len(pitch_data_row)))\n",
        "      val +=1\n",
        "  batter_namesHA = []\n",
        "  for i in range(6):\n",
        "    batter_namesHA.append(game[134 + i*3])\n",
        "  for i in range(6):\n",
        "    batter_namesHA.append(game[107 + i*3])\n",
        "  for batter in batter_namesHA:\n",
        "    batter_names = [batter, batter + ' Jr.', batter + ' II', batter + ' III', ]\n",
        "    bat_data_row = bat_data[bat_data['Name'].isin(batter_names)]#bat_data['Name'],batter)]\n",
        "    if bat_data_row.empty:\n",
        "      good_game = False\n",
        "      if batter not in no_bat_data:\n",
        "        print(f'Error: No data found for batter {batter}. Skipping...')\n",
        "        no_bat_data.append(batter)\n",
        "      bad_bat+=1\n",
        "      break\n",
        "    # else:\n",
        "    tpa = bat_data_row['PA'].max()\n",
        "    # print(bat_data_row)\n",
        "    # print(tpa.max())\n",
        "    # break\n",
        "    bat_data_row = bat_data_row.iloc[:, 5:-1]\n",
        "    col = 0\n",
        "    val = 0\n",
        "    # print(bat_data_row.shape)\n",
        "    # print('tttttt     ',   len(bat_data_row))\n",
        "    # batter_PA = bat_data_row['PA']\n",
        "    # norm_llist = ''\n",
        "    for i in bat_data_row:\n",
        "      col+=1\n",
        "      if i != 'AVG':\n",
        "        game_state_row.append((bat_data_row[i].sum() / len(bat_data_row))/ tpa)# / max_bat_values[val])\n",
        "      else:\n",
        "        game_state_row.append((bat_data_row[i].sum() / len(bat_data_row)))\n",
        "      val += 1\n",
        "  box_scoresHA = [game[21], game[20]]\n",
        "  nrfi = 1\n",
        "  for i in box_scoresHA:\n",
        "    if i == '0' or i == 0:\n",
        "      continue\n",
        "    if i[0]== '0':\n",
        "      continue\n",
        "    elif i[0]=='(':\n",
        "      nrfi = 0\n",
        "      continue\n",
        "    elif int(i[0]) > 0:\n",
        "      nrfi = 0\n",
        "    else:\n",
        "      print('!!!NRFI error!!!')\n",
        "      print(i)\n",
        "      quit()\n",
        "      break\n",
        "  total_game +=1\n",
        "  # print(len(game_state_row))\n",
        "\n",
        "  if good_game and len(game_state_row) == 246:\n",
        "    good_games +=1\n",
        "    if random.random() < .1:\n",
        "      test_data.append(game_state_row)\n",
        "      test_labels.append(nrfi)\n",
        "      # if nrfi==1 and random.random() < .3:\n",
        "      #   test_data.append(game_state_row)\n",
        "      #   test_labels.append(nrfi)\n",
        "    else:\n",
        "      train_data.append(game_state_row)\n",
        "      train_labels.append(nrfi)\n",
        "      # if nrfi==1 and random.random() < .3:\n",
        "      #   train_data.append(game_state_row)\n",
        "      #   train_labels.append(nrfi)\n",
        "  # else:\n",
        "  #   print('bad data')"
      ],
      "metadata": {
        "colab": {
          "base_uri": "https://localhost:8080/"
        },
        "id": "2v1us6xMjGXu",
        "outputId": "0f875ec8-89c0-4095-90c8-f11841a4e5f8"
      },
      "execution_count": null,
      "outputs": [
        {
          "output_type": "stream",
          "name": "stdout",
          "text": [
            "Error: No data found for batter Michael Brosseau. Skipping...\n",
            "Error: No data found for pitcher Vincent Velasquez. Skipping...\n",
            "Error: No data found for batter Ji-Man Choi. Skipping...\n",
            "Error: No data found for batter Yulieski Gurriel. Skipping...\n",
            "Error: No data found for pitcher Matt Boyd. Skipping...\n",
            "Error: No data found for batter A.J. Pollock. Skipping...\n",
            "Error: No data found for batter Gerardo Perdomo. Skipping...\n",
            "Error: No data found for batter C. J. Abrams. Skipping...\n",
            "Error: No data found for pitcher Tom Milone. Skipping...\n",
            "Error: No data found for batter Giovanny Urshela. Skipping...\n",
            "Error: No data found for batter Davis Taylor Walls. Skipping...\n",
            "Error: No data found for pitcher Conner Seabold. Skipping...\n",
            "Error: No data found for pitcher J. P. France. Skipping...\n",
            "Error: No data found for pitcher Luis Ortiz. Skipping...\n",
            "Error: No data found for batter Josh Palacios. Skipping...\n",
            "Error: No data found for pitcher Daniel Lynch. Skipping...\n",
            "Error: No data found for pitcher Mike Soroka. Skipping...\n",
            "Error: No data found for batter Miguel Amaya. Skipping...\n",
            "Error: No data found for batter Samad Taylor. Skipping...\n",
            "Error: No data found for pitcher Sammy Long. Skipping...\n",
            "Error: No data found for batter Drew Waters. Skipping...\n",
            "Error: No data found for pitcher Jake Junis. Skipping...\n",
            "Error: No data found for pitcher Hyun-Jin Ryu. Skipping...\n",
            "Error: No data found for batter J. P. Martinez. Skipping...\n",
            "Error: No data found for batter Brian O'Keefe. Skipping...\n",
            "Error: No data found for pitcher J.T. Chargois. Skipping...\n",
            "Error: No data found for batter Everson Pereira. Skipping...\n",
            "Error: No data found for batter Vinny Capra. Skipping...\n",
            "Error: No data found for batter Trey Cabbage. Skipping...\n",
            "Error: No data found for batter Matthew Batten. Skipping...\n",
            "Error: No data found for batter Michael Taylor. Skipping...\n",
            "Error: No data found for batter Weston Wilson. Skipping...\n",
            "Error: No data found for batter Diego Castillo. Skipping...\n",
            "Error: No data found for batter Austin Allen. Skipping...\n",
            "Error: No data found for pitcher Jonathon Feyereisen. Skipping...\n",
            "Error: No data found for batter Jason Krizan. Skipping...\n",
            "Error: No data found for pitcher Jesse David Chavez. Skipping...\n",
            "Error: No data found for batter Aaron Whitefield. Skipping...\n",
            "Error: No data found for pitcher Jon Heasley. Skipping...\n",
            "Error: No data found for batter Tyler Wade. Skipping...\n",
            "Error: No data found for batter Dillon Thomas. Skipping...\n",
            "Error: No data found for batter Rene Pinto. Skipping...\n",
            "Error: No data found for batter Narciso Crook. Skipping...\n",
            "Error: No data found for batter Jose Azocar. Skipping...\n",
            "Error: No data found for batter Elier Hernandez. Skipping...\n",
            "Error: No data found for batter Jerar Encarnacion. Skipping...\n",
            "Error: No data found for batter Josh Lester. Skipping...\n",
            "Error: No data found for batter Bubba Thompson. Skipping...\n",
            "Error: No data found for batter Austin Barnes. Skipping...\n",
            "Error: No data found for batter Josh Fuentes. Skipping...\n",
            "Error: No data found for batter Justin Williams. Skipping...\n",
            "Error: No data found for pitcher Kwang Kim. Skipping...\n",
            "Error: No data found for pitcher Michael Fiers. Skipping...\n",
            "Error: No data found for batter Sandy Leon. Skipping...\n",
            "Error: No data found for batter Andy Young. Skipping...\n",
            "Error: No data found for batter Johneshwy Fargas. Skipping...\n",
            "Error: No data found for batter Jose Godoy. Skipping...\n",
            "Error: No data found for batter Patrick Mazeika. Skipping...\n",
            "Error: No data found for batter Steve Wilkerson. Skipping...\n",
            "Error: No data found for pitcher Jean Carlos Mejia. Skipping...\n",
            "Error: No data found for batter Michael Perez. Skipping...\n",
            "Error: No data found for pitcher Tom Eshelman. Skipping...\n",
            "Error: No data found for pitcher Daniel Coulombe. Skipping...\n",
            "Error: No data found for pitcher Jacob Faria. Skipping...\n",
            "Error: No data found for pitcher Travis Lakins. Skipping...\n",
            "Error: No data found for batter Trey Amburgey. Skipping...\n",
            "Error: No data found for batter Rob Brantly. Skipping...\n",
            "Error: No data found for pitcher Alexander Wells. Skipping...\n",
            "Error: No data found for batter Jake Hager. Skipping...\n",
            "Error: No data found for batter Hoy Jun Park. Skipping...\n",
            "Error: No data found for batter Greg Deichmann. Skipping...\n",
            "Error: No data found for batter Andrew Romine. Skipping...\n",
            "Error: No data found for pitcher Jake Latz. Skipping...\n",
            "Error: No data found for batter Colton Welker. Skipping...\n",
            "Error: No data found for batter Jose Garcia. Skipping...\n",
            "Error: No data found for pitcher James Conner Greene. Skipping...\n",
            "Error: No data found for batter Payton Henry. Skipping...\n",
            "Error: No data found for batter Joe McCarthy. Skipping...\n",
            "Error: No data found for pitcher Joshua Allen Smith. Skipping...\n",
            "Error: No data found for batter J.T. Riddle. Skipping...\n",
            "Error: No data found for batter Franklin Barreto. Skipping...\n",
            "Error: No data found for pitcher Peter Fairbanks. Skipping...\n",
            "Error: No data found for batter Jake Noll. Skipping...\n",
            "Error: No data found for pitcher Nathan Karns. Skipping...\n",
            "Error: No data found for batter Peter O'Brien. Skipping...\n",
            "Error: No data found for batter Chris Iannetta. Skipping...\n",
            "Error: No data found for batter J.B. Shuck. Skipping...\n",
            "Error: No data found for batter Jesus Sucre. Skipping...\n",
            "Error: No data found for batter Noel Cuevas. Skipping...\n",
            "Error: No data found for batter Sean Rodriguez. Skipping...\n",
            "Error: No data found for batter Russell Martin. Skipping...\n",
            "Error: No data found for pitcher Josh Smith. Skipping...\n",
            "Error: No data found for batter Charlie Tilson. Skipping...\n",
            "Error: No data found for batter Martin Maldonado. Skipping...\n",
            "Error: No data found for batter Tyler Saladino. Skipping...\n",
            "Error: No data found for batter A.J. Reed. Skipping...\n",
            "Error: No data found for batter Zach Green. Skipping...\n",
            "Error: No data found for batter Chris Herrmann. Skipping...\n",
            "Error: No data found for batter Abiatal Avelino. Skipping...\n",
            "Error: No data found for batter Josh Phegley. Skipping...\n",
            "Error: No data found for batter Michael Lorenzen. Skipping...\n",
            "Error: No data found for batter Kevin Kramer. Skipping...\n",
            "Error: No data found for batter Jose Pirela. Skipping...\n",
            "Error: No data found for batter Cristhian Adames. Skipping...\n",
            "Error: No data found for batter Kaleb Cowart. Skipping...\n",
            "Error: No data found for batter Erick Mejia. Skipping...\n",
            "Error: No data found for batter Jake Elmore. Skipping...\n"
          ]
        }
      ]
    },
    {
      "cell_type": "code",
      "source": [
        "print('Training on {} of {} total games'.format(good_games, total_game))\n",
        "if len(train_data) != len(train_labels) or len(test_data) != len(test_labels):\n",
        "  print('!!!!!!! DATA ALIGNMENT ERROR !!!!!!!')\n",
        "  quit()\n",
        "\n",
        "num_nrfi = 0\n",
        "num_scrfi = 0\n",
        "for i in test_labels:\n",
        "  if i == 1:\n",
        "    num_nrfi+=1\n",
        "  else:\n",
        "    num_scrfi +=1\n",
        "\n",
        "for i in train_labels:\n",
        "  if i == 1:\n",
        "    num_nrfi+=1\n",
        "  else:\n",
        "    num_scrfi +=1\n",
        "# print('Data balance ratio (NRFI/SCRFI): ', num_nrfi/num_scrfi)\n",
        "print( num_nrfi, num_scrfi)\n",
        "\n",
        "\n"
      ],
      "metadata": {
        "colab": {
          "base_uri": "https://localhost:8080/"
        },
        "id": "Rybc3ojH2vHM",
        "outputId": "075cf6cd-69b0-41be-b505-55a943eb52e5"
      },
      "execution_count": null,
      "outputs": [
        {
          "output_type": "stream",
          "name": "stdout",
          "text": [
            "Training on 8130 of 10616 total games\n",
            "3144 4986\n"
          ]
        }
      ]
    },
    {
      "cell_type": "code",
      "source": [
        "print(test_data[0])"
      ],
      "metadata": {
        "colab": {
          "base_uri": "https://localhost:8080/"
        },
        "id": "gLiavd3-7yUg",
        "outputId": "4541591a-0767-4372-ab5f-99a8b62f1aae"
      },
      "execution_count": null,
      "outputs": [
        {
          "output_type": "stream",
          "name": "stdout",
          "text": [
            "[0.005377190711678832, 0.22445255474452555, 0.03467153284671533, 0.0, 0.08576642335766424, 0.07846715328467153, 0.01824817518248175, 0.072992700729927, 0.0, 0.0018248175182481751, 0.18613138686131386, 0.24501992, 0.299270072, 0.342629482, 0.2824511449702465, 0.005811931853360489, 0.18533604887983707, 0.026476578411405296, 0.002036659877800407, 0.0835030549898167, 0.07942973523421588, 0.018329938900203666, 0.07331975560081466, 0.0, 0.006109979633401222, 0.3034623217922607, 0.203125, 0.264765784, 0.296875, 0.2507948715186653, 0.92, 0.24, 0.16, 0.06222222222222222, 0.0, 0.017777777777777778, 0.18222222222222223, 0.04888888888888889, 0.04888888888888889, 0.0, 0.14666666666666667, 0.03111111111111111, 0.0, 0.0, 0.008888888888888889, 0.044444444444444446, 0.008888888888888889, 0.260869565, 0.902200488997555, 0.22982885085574573, 0.1491442542787286, 0.04645476772616137, 0.004889975550122249, 0.029339853300733496, 0.1271393643031785, 0.11735941320293398, 0.08312958435207823, 0.0, 0.2567237163814181, 0.004889975550122249, 0.009779951100244499, 0.0, 0.004889975550122249, 0.014669926650366748, 0.009779951100244499, 0.254742547, 0.8714953271028038, 0.2219626168224299, 0.10747663551401869, 0.07242990654205607, 0.002336448598130841, 0.0397196261682243, 0.09579439252336448, 0.12149532710280374, 0.12149532710280374, 0.0, 0.29205607476635514, 0.004672897196261682, 0.002336448598130841, 0.0, 0.014018691588785047, 0.007009345794392523, 0.009345794392523364, 0.254691689, 0.8646864686468647, 0.21782178217821782, 0.1419141914191419, 0.0231023102310231, 0.0033003300330033004, 0.04950495049504951, 0.13861386138613863, 0.2079207920792079, 0.1188118811881188, 0.006600660066006601, 0.19471947194719472, 0.0033003300330033004, 0.013201320132013201, 0.0, 0.019801980198019802, 0.019801980198019802, 0.0033003300330033004, 0.251908396, 0.8915343915343915, 0.25132275132275134, 0.1455026455026455, 0.03968253968253968, 0.005291005291005291, 0.06084656084656084, 0.15873015873015872, 0.10846560846560846, 0.07671957671957672, 0.0, 0.2222222222222222, 0.0291005291005291, 0.0026455026455026454, 0.0, 0.0291005291005291, 0.0, 0.0, 0.281899109, 0.9555555555555556, 0.26666666666666666, 0.17777777777777778, 0.044444444444444446, 0.0, 0.044444444444444446, 0.08888888888888889, 0.35555555555555557, 0.022222222222222223, 0.0, 0.15555555555555556, 0.022222222222222223, 0.0, 0.0, 0.044444444444444446, 0.0, 0.0, 0.279069767, 0.8544303797468354, 0.2231012658227848, 0.14082278481012658, 0.04113924050632911, 0.0031645569620253164, 0.0379746835443038, 0.16139240506329114, 0.06645569620253164, 0.13449367088607594, 0.0, 0.21835443037974683, 0.00949367088607595, 0.0, 0.0, 0.012658227848101266, 0.03481012658227848, 0.011075949367088608, 0.261111111, 0.8622448979591837, 0.2066326530612245, 0.13520408163265307, 0.04081632653061224, 0.0, 0.030612244897959183, 0.12755102040816327, 0.07142857142857142, 0.11734693877551021, 0.0, 0.2193877551020408, 0.012755102040816327, 0.00510204081632653, 0.002551020408163265, 0.02040816326530612, 0.00510204081632653, 0.002551020408163265, 0.23964497, 0.8725490196078431, 0.21568627450980393, 0.12254901960784313, 0.049019607843137254, 0.0, 0.04411764705882353, 0.13725490196078433, 0.11029411764705882, 0.12009803921568628, 0.0, 0.27450980392156865, 0.0, 0.007352941176470588, 0.0, 0.022058823529411766, 0.014705882352941176, 0.0024509803921568627, 0.247191011, 0.8859649122807017, 0.21052631578947367, 0.11842105263157894, 0.05701754385964912, 0.0, 0.03508771929824561, 0.07017543859649122, 0.17105263157894737, 0.09210526315789473, 0.0043859649122807015, 0.19298245614035087, 0.013157894736842105, 0.008771929824561403, 0.0, 0.043859649122807015, 0.0043859649122807015, 0.0, 0.237623762, 0.9295774647887324, 0.25821596244131456, 0.17370892018779344, 0.056338028169014086, 0.0, 0.028169014084507043, 0.13145539906103287, 0.07511737089201878, 0.06572769953051644, 0.0, 0.29577464788732394, 0.0, 0.004694835680751174, 0.0, 0.056338028169014086, 0.004694835680751174, 0.0, 0.277777777, 0.8681318681318682, 0.16483516483516483, 0.10989010989010989, 0.01098901098901099, 0.0, 0.04395604395604396, 0.17582417582417584, 0.07692307692307693, 0.07692307692307693, 0.0, 0.24175824175824176, 0.03296703296703297, 0.01098901098901099, 0.0, 0.0, 0.01098901098901099, 0.0, 0.189873417]\n"
          ]
        }
      ]
    },
    {
      "cell_type": "code",
      "source": [
        "batch_size = 10\n",
        "train_data = torch.tensor(train_data)\n",
        "train_labels = torch.tensor(train_labels)\n",
        "train_dataset = TensorDataset(train_data, train_labels)\n",
        "train_dataloader = DataLoader(train_dataset, batch_size = batch_size, shuffle = True)\n",
        "\n",
        "test_data = torch.tensor(test_data)\n",
        "test_labels = torch.tensor(test_labels)\n",
        "test_dataset = TensorDataset(test_data, test_labels)\n",
        "test_dataloader = DataLoader(test_dataset, batch_size = batch_size, shuffle = True)"
      ],
      "metadata": {
        "id": "ehmHuYT8xujl"
      },
      "execution_count": null,
      "outputs": []
    },
    {
      "cell_type": "code",
      "source": [
        "if torch.cuda.is_available():\n",
        "  dataloader = torch.to('cuda')\n",
        "  print('Working on GPU')"
      ],
      "metadata": {
        "id": "WEJuJ74xdziV"
      },
      "execution_count": null,
      "outputs": []
    },
    {
      "cell_type": "code",
      "source": [
        "num_features = 246\n",
        "final_output_dim = 1\n",
        "\n",
        "\n",
        "class Net(nn.Module):\n",
        "    def __init__(self):\n",
        "        super().__init__()\n",
        "        self.flatten = nn.Flatten()\n",
        "        self.linear_relu_stack = nn.Sequential(\n",
        "            nn.Linear(num_features, 64),# 64),\n",
        "            nn.ReLU(),\n",
        "            nn.Linear(64, 64),\n",
        "            nn.ReLU(),\n",
        "            nn.Linear(64, 1),\n",
        "        )\n",
        "\n",
        "    def forward(self, x):\n",
        "        x = self.flatten(x)\n",
        "        logits = self.linear_relu_stack(x)\n",
        "        # print(type(logits))\n",
        "        # return\n",
        "        # print(x.shape)\n",
        "        return logits"
      ],
      "metadata": {
        "id": "_uJOCwRyfzDA"
      },
      "execution_count": null,
      "outputs": []
    },
    {
      "cell_type": "code",
      "source": [
        "net = Net()\n",
        "# optimizer = optim.Adam(net.parameters(), lr = 1e-4)\n",
        "\n",
        "epochs = 100 # full passes through the dataset\n",
        "\n",
        "t = 0\n",
        "losses = []\n",
        "acc = []\n",
        "for epoch in range(epochs):\n",
        "    e_loss = 0\n",
        "    if epoch < 10:\n",
        "      optimizer = optim.Adam(net.parameters(), lr = 1e-4)\n",
        "    if epoch >=10 and epoch < 40:\n",
        "      optimizer = optim.Adam(net.parameters(), lr = 1e-5)\n",
        "    if epoch >= 40:\n",
        "      optimizer = optim.Adam(net.parameters(), lr = 1e-6)\n",
        "    for data in train_dataloader: # data is a batch of featuresets and labels. TRAINSET SHOULD BE IN BATCHES, x being a batch, and y being the truth values as a vector for that batch\n",
        "        x, y = data\n",
        "        x = x.float()\n",
        "        y = y.float()\n",
        "        true_batch_size = len(y)\n",
        "        # truth = torch.zeros(true_batch_size, num_objects)\n",
        "        # for i in range(true_batch_size):\n",
        "        #     truth[i,object_map[y[i].item()]]=1\n",
        "        net.zero_grad()\n",
        "        # print(type(true_batch_size), type(num_features))\n",
        "        output = net(x.view(true_batch_size,num_features))\n",
        "        # output = output.squeeze()\n",
        "        # print(output.shape, y)\n",
        "        # break\n",
        "        loss = F.mse_loss(output, y.view(true_batch_size,1))\n",
        "        e_loss += loss.item()\n",
        "        loss.backward()\n",
        "        optimizer.step()\n",
        "    e_loss = e_loss/ len(train_dataloader)\n",
        "    losses.append(e_loss)\n",
        "    # xt = torch.tensor(gg)\n",
        "    # xt = xt.float()\n",
        "    # # y = y.float()\n",
        "    # # true_batch_size = len(y)\n",
        "    # outputx = net(xt.view(1,num_features))\n",
        "    # print('Guess: ', outputx)\n",
        "    print('Epoch ', epoch, ' Loss: ',e_loss)\n"
      ],
      "metadata": {
        "id": "y1jogDESx1Br",
        "colab": {
          "base_uri": "https://localhost:8080/"
        },
        "outputId": "42758fb4-a055-4ef8-f5e3-82f679f5bf6a"
      },
      "execution_count": null,
      "outputs": [
        {
          "output_type": "stream",
          "name": "stdout",
          "text": [
            "Epoch  0  Loss:  0.2446380810352172\n",
            "Epoch  1  Loss:  0.23695596149966303\n",
            "Epoch  2  Loss:  0.2364421105279116\n",
            "Epoch  3  Loss:  0.23573239560341933\n",
            "Epoch  4  Loss:  0.23517610860472649\n",
            "Epoch  5  Loss:  0.23482275387274779\n",
            "Epoch  6  Loss:  0.23430740888170787\n",
            "Epoch  7  Loss:  0.2332247661942512\n",
            "Epoch  8  Loss:  0.23285149129318508\n",
            "Epoch  9  Loss:  0.23219827958986183\n",
            "Epoch  10  Loss:  0.2310888260643609\n",
            "Epoch  11  Loss:  0.23095743173141273\n",
            "Epoch  12  Loss:  0.2310053150780692\n",
            "Epoch  13  Loss:  0.23080273378147434\n",
            "Epoch  14  Loss:  0.230788170112269\n",
            "Epoch  15  Loss:  0.23061740258136842\n",
            "Epoch  16  Loss:  0.23058024099627752\n",
            "Epoch  17  Loss:  0.23034163276788158\n",
            "Epoch  18  Loss:  0.2303080556337375\n",
            "Epoch  19  Loss:  0.23018156288834582\n",
            "Epoch  20  Loss:  0.23010838721938542\n",
            "Epoch  21  Loss:  0.23012568124685573\n",
            "Epoch  22  Loss:  0.22991432698817077\n",
            "Epoch  23  Loss:  0.22990116797194474\n",
            "Epoch  24  Loss:  0.22972364046726512\n",
            "Epoch  25  Loss:  0.22958881919250645\n",
            "Epoch  26  Loss:  0.22962644467534343\n",
            "Epoch  27  Loss:  0.2295000000487083\n",
            "Epoch  28  Loss:  0.2294040886433681\n",
            "Epoch  29  Loss:  0.22927128372137087\n",
            "Epoch  30  Loss:  0.2292369014569552\n",
            "Epoch  31  Loss:  0.22913932906003798\n",
            "Epoch  32  Loss:  0.22899762623388153\n",
            "Epoch  33  Loss:  0.22895406948918373\n",
            "Epoch  34  Loss:  0.22890826336033185\n",
            "Epoch  35  Loss:  0.22872939310449533\n",
            "Epoch  36  Loss:  0.22872392601482214\n",
            "Epoch  37  Loss:  0.2285123429836713\n",
            "Epoch  38  Loss:  0.2284939571259617\n",
            "Epoch  39  Loss:  0.22844803676842668\n",
            "Epoch  40  Loss:  0.228136541207523\n",
            "Epoch  41  Loss:  0.2282339596732089\n",
            "Epoch  42  Loss:  0.2281757791362713\n",
            "Epoch  43  Loss:  0.22814830215736756\n",
            "Epoch  44  Loss:  0.22816697091352078\n",
            "Epoch  45  Loss:  0.22806840043357418\n",
            "Epoch  46  Loss:  0.22805567165026072\n",
            "Epoch  47  Loss:  0.22808925872528862\n",
            "Epoch  48  Loss:  0.2281353086599061\n",
            "Epoch  49  Loss:  0.2280902129484882\n",
            "Epoch  50  Loss:  0.2281172968965598\n",
            "Epoch  51  Loss:  0.22808417409536458\n",
            "Epoch  52  Loss:  0.22805752971121918\n",
            "Epoch  53  Loss:  0.22805569055623603\n",
            "Epoch  54  Loss:  0.22807279104140737\n",
            "Epoch  55  Loss:  0.22806938821996217\n",
            "Epoch  56  Loss:  0.22806726100296798\n",
            "Epoch  57  Loss:  0.22806523390632696\n",
            "Epoch  58  Loss:  0.22795934013585276\n",
            "Epoch  59  Loss:  0.22798291251246308\n",
            "Epoch  60  Loss:  0.22799802626423427\n",
            "Epoch  61  Loss:  0.22792598147753315\n",
            "Epoch  62  Loss:  0.2280070658107409\n",
            "Epoch  63  Loss:  0.2279667913974714\n",
            "Epoch  64  Loss:  0.22797401838949888\n",
            "Epoch  65  Loss:  0.22793733608104685\n",
            "Epoch  66  Loss:  0.22795262158242285\n",
            "Epoch  67  Loss:  0.22798078148378031\n",
            "Epoch  68  Loss:  0.22785721625751557\n",
            "Epoch  69  Loss:  0.2279197899739056\n",
            "Epoch  70  Loss:  0.227940914514608\n",
            "Epoch  71  Loss:  0.22787631237002706\n",
            "Epoch  72  Loss:  0.2278606795577528\n",
            "Epoch  73  Loss:  0.22783104400436355\n",
            "Epoch  74  Loss:  0.22786985213727287\n",
            "Epoch  75  Loss:  0.22785923281356713\n",
            "Epoch  76  Loss:  0.2279148664310229\n",
            "Epoch  77  Loss:  0.227849180648792\n",
            "Epoch  78  Loss:  0.2278438343032483\n",
            "Epoch  79  Loss:  0.2279479238134777\n",
            "Epoch  80  Loss:  0.22778550391104505\n",
            "Epoch  81  Loss:  0.22773060643737997\n",
            "Epoch  82  Loss:  0.22774367831332296\n",
            "Epoch  83  Loss:  0.22775652415105135\n",
            "Epoch  84  Loss:  0.22780201778242729\n",
            "Epoch  85  Loss:  0.22776912868348181\n",
            "Epoch  86  Loss:  0.22775183855918063\n",
            "Epoch  87  Loss:  0.22770828331882925\n",
            "Epoch  88  Loss:  0.22771329594341502\n",
            "Epoch  89  Loss:  0.2276661077877672\n",
            "Epoch  90  Loss:  0.227717204357397\n",
            "Epoch  91  Loss:  0.22767681533935777\n",
            "Epoch  92  Loss:  0.22770943997826779\n",
            "Epoch  93  Loss:  0.22761505476286759\n",
            "Epoch  94  Loss:  0.22773451438379483\n",
            "Epoch  95  Loss:  0.22760368456700653\n",
            "Epoch  96  Loss:  0.22762763077370304\n",
            "Epoch  97  Loss:  0.2276035743837955\n",
            "Epoch  98  Loss:  0.22760853394967634\n",
            "Epoch  99  Loss:  0.22760026478100603\n"
          ]
        }
      ]
    },
    {
      "cell_type": "code",
      "source": [
        "correct = 0\n",
        "total = 0\n",
        "\n",
        "c_nrfi = 0\n",
        "c_nn = 0\n",
        "w_nrfi = 0\n",
        "w_nn = 0\n",
        "\n",
        "c_nrfi_l = []\n",
        "c_nn_l = []\n",
        "w_nrfi_l = []\n",
        "w_nn_l = []\n",
        "\n",
        "\n",
        "with torch.no_grad():\n",
        "    for data in test_dataloader:\n",
        "        x, y = data\n",
        "        x = x.float()\n",
        "        y = y.float()\n",
        "        true_batch_size = len(y)\n",
        "        output = net(x.view(true_batch_size,num_features))\n",
        "\n",
        "        for i in range(len(y)):\n",
        "            if y[i].item() == round(output[i].item()):\n",
        "              correct +=1\n",
        "              if y[i].item()==1:\n",
        "                c_nrfi +=1\n",
        "                c_nrfi_l.append(output[i].item())\n",
        "              else:\n",
        "                c_nn +=1\n",
        "                c_nn_l.append(output[i].item())\n",
        "            else:\n",
        "              if y[i].item()==1:\n",
        "                w_nrfi +=1\n",
        "                w_nrfi_l.append(output[i].item())\n",
        "              else:\n",
        "                w_nn +=1\n",
        "                w_nn_l.append(output[i].item())\n",
        "            total+=1\n",
        "print('Accuracy ({}/{}): {}'.format(correct, total,round(correct/total*100, 2)))\n",
        "acc.append(correct/total*100)\n",
        "print('--------------------------------')\n",
        "print('                    Truth')\n",
        "print('               NRFI     SCRFI')\n",
        "print('         NRFI  ', c_nrfi, '     ', w_nn)\n",
        "print(' Guess')\n",
        "print('        SCRFI  ', w_nrfi, '    ', c_nn)\n",
        "conf = [[c_nrfi, c_nn], [w_nrfi, w_nn]]\n",
        "print('--------------------------------')\n",
        "\n"
      ],
      "metadata": {
        "colab": {
          "base_uri": "https://localhost:8080/"
        },
        "id": "naopRSA1xlql",
        "outputId": "d99818eb-4ba8-4548-ec1b-0295046c804a"
      },
      "execution_count": null,
      "outputs": [
        {
          "output_type": "stream",
          "name": "stdout",
          "text": [
            "Accuracy (505/806): 62.66\n",
            "--------------------------------\n",
            "                    Truth\n",
            "               NRFI     SCRFI\n",
            "         NRFI   18       8\n",
            " Guess\n",
            "        SCRFI   293      487\n",
            "--------------------------------\n"
          ]
        }
      ]
    },
    {
      "cell_type": "code",
      "source": [
        "print(c_nrfi+ w_nrfi)\n",
        "print(c_nn + w_nn)"
      ],
      "metadata": {
        "colab": {
          "base_uri": "https://localhost:8080/"
        },
        "id": "aE6raV1oaSY4",
        "outputId": "fe0d963e-4144-45fc-97f8-89be91a71115"
      },
      "execution_count": null,
      "outputs": [
        {
          "output_type": "stream",
          "name": "stdout",
          "text": [
            "311\n",
            "495\n"
          ]
        }
      ]
    },
    {
      "cell_type": "code",
      "source": [
        "# prompt: make a plot plotting the four lists defined above, each in different colors with a legend\n",
        "\n",
        "import matplotlib.pyplot as plt\n",
        "\n",
        "x = [0, 1]\n",
        "x_labels = ['NRFI', 'SCRFI']\n",
        "y_labels = ['NRFI', 'SCRFI']\n",
        "y_data = [c_nrfi_l, c_nn_l, w_nrfi_l, w_nn_l]\n",
        "colors = ['red', 'blue', 'orange', 'green']\n",
        "labels = ['NRFI Guess - NRFI Truth', 'SCRFI Guess - NRFI Truth', 'NRFI Guess - SCRFI Truth', 'SCRFI Guess - SCRFI Truth']\n",
        "\n",
        "fig, ax = plt.subplots()\n",
        "\n",
        "# for i in range(len(y_data)):\n",
        "#   ax.plot(x, y_data[i], color=colors[i], label=labels[i])\n",
        "ax.plot([0,1],[.5,.5], color = 'gray', alpha = .5)\n",
        "ax.plot(np.linspace(0,1,len(c_nrfi_l)), c_nrfi_l, 'o', color = 'blue', label = 'Correct NRFI')\n",
        "ax.plot(np.linspace(0,1,len(c_nn_l)), c_nn_l, 'o', color = 'green', label = 'Correct NN')\n",
        "ax.plot(np.linspace(0,1,len(w_nn_l)), w_nn_l, 'o', color = 'red', label = 'Incorrect')\n",
        "ax.plot(np.linspace(0,1,len(w_nrfi_l)), w_nrfi_l, 'o', color = 'red')#, label = 'Incorrect')\n",
        "\n",
        "\n",
        "print(max(c_nrfi_l))\n",
        "# ax.set_xticks(x)\n",
        "ax.set_xticklabels([])\n",
        "ax.set_yticks([0, .5, 1])\n",
        "ax.set_xlim(0,1)\n",
        "ax.set_ylabel('Q Value')\n",
        "ax.set_title('NRFI/SCRFI Predictions vs Truth')\n",
        "ax.legend()\n",
        "\n",
        "plt.show()\n"
      ],
      "metadata": {
        "id": "3D8q6mB6YRwe",
        "colab": {
          "base_uri": "https://localhost:8080/",
          "height": 451
        },
        "outputId": "e0dd7ecb-f3bb-489b-be89-7cad21e54c0b"
      },
      "execution_count": null,
      "outputs": [
        {
          "output_type": "stream",
          "name": "stdout",
          "text": [
            "0.6161736249923706\n"
          ]
        },
        {
          "output_type": "display_data",
          "data": {
            "text/plain": [
              "<Figure size 640x480 with 1 Axes>"
            ],
            "image/png": "[encoded data removed]"
          },
          "metadata": {}
        }
      ]
    },
    {
      "cell_type": "code",
      "source": [
        "plt.hist(w_nn_l+w_nrfi_l, bins = np.linspace(-.5,1.5,40))"
      ],
      "metadata": {
        "colab": {
          "base_uri": "https://localhost:8080/",
          "height": 662
        },
        "id": "qSTgrwOu0lpN",
        "outputId": "17134705-29c2-4b81-8f59-49b1ddf1503e"
      },
      "execution_count": null,
      "outputs": [
        {
          "output_type": "execute_result",
          "data": {
            "text/plain": [
              "(array([  0.,   0.,   0.,   0.,   0.,   0.,   0.,   0.,   0.,   0.,   0.,\n",
              "          0.,   0.,   0.,   3.,  18.,  64., 117.,  76.,  20.,   3.,   0.,\n",
              "          0.,   0.,   0.,   0.,   0.,   0.,   0.,   0.,   0.,   0.,   0.,\n",
              "          0.,   0.,   0.,   0.,   0.,   0.]),\n",
              " array([-0.5       , -0.44871795, -0.3974359 , -0.34615385, -0.29487179,\n",
              "        -0.24358974, -0.19230769, -0.14102564, -0.08974359, -0.03846154,\n",
              "         0.01282051,  0.06410256,  0.11538462,  0.16666667,  0.21794872,\n",
              "         0.26923077,  0.32051282,  0.37179487,  0.42307692,  0.47435897,\n",
              "         0.52564103,  0.57692308,  0.62820513,  0.67948718,  0.73076923,\n",
              "         0.78205128,  0.83333333,  0.88461538,  0.93589744,  0.98717949,\n",
              "         1.03846154,  1.08974359,  1.14102564,  1.19230769,  1.24358974,\n",
              "         1.29487179,  1.34615385,  1.3974359 ,  1.44871795,  1.5       ]),\n",
              " <BarContainer object of 39 artists>)"
            ]
          },
          "metadata": {},
          "execution_count": 81
        },
        {
          "output_type": "display_data",
          "data": {
            "text/plain": [
              "<Figure size 640x480 with 1 Axes>"
            ],
            "image/png": "[encoded data removed]"
          },
          "metadata": {}
        }
      ]
    },
    {
      "cell_type": "code",
      "source": [
        "gg = [268,\t1154,\t4.71,\t283,\t60,\t10,\t148,\t139,\t38,\t84,\t0,\t8,\t286,\t0.271,\t0.326,\t0.457,\t0.336,\t4,\t19,\t4.5,\t4,\t1,\t0,\t3,\t2,\t0,\t3,\t0,\t0,\t4,\t0.25,\t0.368,\t0.313,\t0.316,\t325,\t326,\t302,\t83,\t60,\t17,\t3,\t3,\t47,\t3,\t22,\t0,\t42,\t2,\t0,\t0,\t0,\t6,\t4,\t0.274834437,\t139,\t139,\t126,\t25,\t18,\t3,\t0,\t4,\t16,\t18,\t8,\t0,\t26,\t3,\t1,\t1,\t1,\t7,\t1,\t0.198412698,\t1026,\t1026,\t909,\t242,\t127,\t58,\t3,\t54,\t145,\t150,\t91,\t1,\t144,\t12,\t10,\t4,\t16,\t39,\t10,\t0.266226622,\t189,\t189,\t169,\t50,\t37,\t7,\t0,\t6,\t20,\t39,\t15,\t0,\t30,\t2,\t3,\t0,\t6,\t3,\t0,\t0.295857988,\t45,\t45,\t40,\t6,\t4,\t2,\t0,\t0,\t3,\t0,\t2,\t0,\t9,\t3,\t0,\t0,\t0,\t0,\t1,\t0.15,\t23,\t23,\t21,\t5,\t3,\t1,\t1,\t0,\t1,\t4,\t1,\t0,\t3,\t1,\t0,\t0,\t0,\t2,\t0,\t0.238095238,\t48,\t48,\t41,\t6,\t2,\t2,\t0,\t2,\t4,\t4,\t7,\t0,\t14,\t0,\t0,\t0,\t0,\t1,\t0,\t0.146341463,\t26,\t26,\t24,\t6,\t3,\t1,\t0,\t2,\t3,\t6,\t1,\t0,\t5,\t1,\t0,\t0,\t1,\t0,\t1,\t0.25,\t648,\t648,\t585,\t151,\t102,\t28,\t2,\t19,\t55,\t58,\t59,\t0,\t112,\t3,\t1,\t0,\t22,\t6,\t4,\t0.258119658,\t58,\t58,\t51,\t13,\t5,\t6,\t1,\t1,\t7,\t7,\t6,\t0,\t14,\t0,\t1,\t0,\t0,\t1,\t0,\t0.25490196,\t29,\t29,\t26,\t1,\t1,\t0,\t0,\t0,\t0,\t2,\t2,\t0,\t4,\t0,\t1,\t0,\t0,\t0,\t0,\t0.038461538,\t373,\t374,\t351,\t97,\t58,\t18,\t1,\t20,\t63,\t22,\t22,\t0,\t73,\t0,\t0,\t0,\t1,\t7,\t3,\t0.276353276\t]\n",
        "print('pitch: ',pitch_data.iloc[:, 3:-1].columns)\n",
        "print(bat_data.iloc[:, 3:-1].columns)\n",
        "print(['G', 'TBF', 'ERA', 'H', '2B', '3B', 'R', 'ER', 'HR', 'BB', 'IBB', 'HBP', 'SO', 'AVG', 'OBP', 'SLG', 'wOBA'])\n",
        "print(['G', 'PA', 'AB', 'H', '1B', '2B', '3B', 'HR', 'R', 'RBI', 'BB', 'IBB',\n",
        "       'SO', 'HBP', 'SF', 'SH', 'GDP', 'SB', 'CS', 'AVG'])"
      ],
      "metadata": {
        "id": "GTcxvoYde5vg",
        "colab": {
          "base_uri": "https://localhost:8080/"
        },
        "outputId": "2f529999-197b-40fc-db7b-116171b828c3"
      },
      "execution_count": null,
      "outputs": [
        {
          "output_type": "stream",
          "name": "stdout",
          "text": [
            "pitch:  Index(['G', 'TBF', 'ERA', 'H', '2B', '3B', 'R', 'ER', 'HR', 'BB', 'IBB', 'HBP',\n",
            "       'SO', 'AVG', 'OBP', 'SLG', 'wOBA'],\n",
            "      dtype='object')\n",
            "Index(['G', 'PA', 'AB', 'H', '1B', '2B', '3B', 'HR', 'R', 'RBI', 'BB', 'IBB',\n",
            "       'SO', 'HBP', 'SF', 'SH', 'GDP', 'SB', 'CS', 'AVG'],\n",
            "      dtype='object')\n",
            "['G', 'TBF', 'ERA', 'H', '2B', '3B', 'R', 'ER', 'HR', 'BB', 'IBB', 'HBP', 'SO', 'AVG', 'OBP', 'SLG', 'wOBA']\n",
            "['G', 'PA', 'AB', 'H', '1B', '2B', '3B', 'HR', 'R', 'RBI', 'BB', 'IBB', 'SO', 'HBP', 'SF', 'SH', 'GDP', 'SB', 'CS', 'AVG']\n"
          ]
        }
      ]
    },
    {
      "cell_type": "code",
      "source": [
        "     #['G', 'TBF','ERA','H', '2B','3B','R','ER','HR''BB''IBB''HBP','SO', 'AVG', 'OBP', 'SLG', 'wOBA']['G','TBF','ERA''H''2B','3B','R''ER''HR''BB''IBB''HBP''SO''AVG''OBP', 'SLG', 'wOBA']\n",
        "# gg = [268,\t1154,\t4.71,\t283,\t60,\t10,\t148,\t139,\t38,\t84,\t0,\t8,\t286,\t0.271,\t0.326,\t0.457,\t0.336,\t4,\t19,\t4.5,\t4,\t1,\t0,\t3,\t2,\t0,\t3,\t0,\t0,\t4,\t0.25,\t0.368,\t0.313,\t0.316,\t325,\t326,\t302,\t83,\t60,\t17,\t3,\t3,\t47,\t3,\t22,\t0,\t42,\t2,\t0,\t0,\t0,\t6,\t4,\t0.274834437,\t139,\t139,\t126,\t25,\t18,\t3,\t0,\t4,\t16,\t18,\t8,\t0,\t26,\t3,\t1,\t1,\t1,\t7,\t1,\t0.198412698,\t1026,\t1026,\t909,\t242,\t127,\t58,\t3,\t54,\t145,\t150,\t91,\t1,\t144,\t12,\t10,\t4,\t16,\t39,\t10,\t0.266226622,\t189,\t189,\t169,\t50,\t37,\t7,\t0,\t6,\t20,\t39,\t15,\t0,\t30,\t2,\t3,\t0,\t6,\t3,\t0,\t0.295857988,\t45,\t45,\t40,\t6,\t4,\t2,\t0,\t0,\t3,\t0,\t2,\t0,\t9,\t3,\t0,\t0,\t0,\t0,\t1,\t0.15,\t23,\t23,\t21,\t5,\t3,\t1,\t1,\t0,\t1,\t4,\t1,\t0,\t3,\t1,\t0,\t0,\t0,\t2,\t0,\t0.238095238,\t48,\t48,\t41,\t6,\t2,\t2,\t0,\t2,\t4,\t4,\t7,\t0,\t14,\t0,\t0,\t0,\t0,\t1,\t0,\t0.146341463,\t26,\t26,\t24,\t6,\t3,\t1,\t0,\t2,\t3,\t6,\t1,\t0,\t5,\t1,\t0,\t0,\t1,\t0,\t1,\t0.25,\t648,\t648,\t585,\t151,\t102,\t28,\t2,\t19,\t55,\t58,\t59,\t0,\t112,\t3,\t1,\t0,\t22,\t6,\t4,\t0.258119658,\t58,\t58,\t51,\t13,\t5,\t6,\t1,\t1,\t7,\t7,\t6,\t0,\t14,\t0,\t1,\t0,\t0,\t1,\t0,\t0.25490196,\t29,\t29,\t26,\t1,\t1,\t0,\t0,\t0,\t0,\t2,\t2,\t0,\t4,\t0,\t1,\t0,\t0,\t0,\t0,\t0.038461538,\t373,\t374,\t351,\t97,\t58,\t18,\t1,\t20,\t63,\t22,\t22,\t0,\t73,\t0,\t0,\t0,\t1,\t7,\t3,\t0.276353276\t]\n",
        "# gg2 = [268,\t1154,\t4.71,\t283,\t60,\t10,\t148,\t139,\t38,\t84,\t0,\t8,\t286,\t0.271,\t0.326,\t0.457,\t0.336,\t4,\t19,\t4.5,\t4,\t1,\t0,\t3,\t2,\t0,\t3,\t0,\t0,\t4,\t0.25,\t0.368,\t0.313,\t0.316,\t325,\t326,\t302,\t83,\t60,\t17,\t3,\t3,\t47,\t3,\t22,\t0,\t42,\t2,\t0,\t0,\t0,\t6,\t4,\t0.274834437,\t139,\t139,\t126,\t25,\t18,\t3,\t0,\t4,\t16,\t18,\t8,\t0,\t26,\t3,\t1,\t1,\t1,\t7,\t1,\t0.198412698,\t1026,\t1026,\t909,\t242,\t127,\t58,\t3,\t54,\t145,\t150,\t91,\t1,\t144,\t12,\t10,\t4,\t16,\t39,\t10,\t0.266226622,\t189,\t189,\t169,\t50,\t37,\t7,\t0,\t6,\t20,\t39,\t15,\t0,\t30,\t2,\t3,\t0,\t6,\t3,\t0,\t0.295857988,\t45,\t45,\t40,\t6,\t4,\t2,\t0,\t0,\t3,\t0,\t2,\t0,\t9,\t3,\t0,\t0,\t0,\t0,\t1,\t0.15,\t23,\t23,\t21,\t5,\t3,\t1,\t1,\t0,\t1,\t4,\t1,\t0,\t3,\t1,\t0,\t0,\t0,\t2,\t0,\t0.238095238,\t48,\t48,\t41,\t6,\t2,\t2,\t0,\t2,\t4,\t4,\t7,\t0,\t14,\t0,\t0,\t0,\t0,\t1,\t0,\t0.146341463,\t26,\t26,\t24,\t6,\t3,\t1,\t0,\t2,\t3,\t6,\t1,\t0,\t5,\t1,\t0,\t0,\t1,\t0,\t1,\t0.25,\t648,\t648,\t585,\t151,\t102,\t28,\t2,\t19,\t55,\t58,\t59,\t0,\t112,\t3,\t1,\t0,\t22,\t6,\t4,\t0.258119658,\t58,\t58,\t51,\t13,\t5,\t6,\t1,\t1,\t7,\t7,\t6,\t0,\t14,\t0,\t1,\t0,\t0,\t1,\t0,\t0.25490196,\t29,\t29,\t26,\t1,\t1,\t0,\t0,\t0,\t0,\t2,\t2,\t0,\t4,\t0,\t1,\t0,\t0,\t0,\t0,\t0.038461538,\t373,\t374,\t351,\t97,\t58,\t18,\t1,\t20,\t63,\t22,\t22,\t0,\t73,\t0,\t0,\t0,\t1,\t7,\t3,\t0.276353276\t]\n",
        "# gg = [1154,\t4.71,\t283,\t60,\t10,\t148,\t139,\t38,\t84,\t0,\t8,\t286,\t0.271,\t0.326,\t0.457,\t0.336,\t\t19,\t4.5,\t4,\t1,\t0,\t3,\t2,\t0,\t3,\t0,\t0,\t4,\t0.25,\t0.368,\t0.313,\t0.316,\t\t326,\t302,\t83,\t60,\t17,\t3,\t3,\t47,\t3,\t22,\t0,\t42,\t2,\t0,\t0,\t0,\t6,\t4,\t0.274834437,\t\t139,\t126,\t25,\t18,\t3,\t0,\t4,\t16,\t18,\t8,\t0,\t26,\t3,\t1,\t1,\t1,\t7,\t1,\t0.198412698,\t\t1026,\t909,\t242,\t127,\t58,\t3,\t54,\t145,\t150,\t91,\t1,\t144,\t12,\t10,\t4,\t16,\t39,\t10,\t0.266226622,\t\t189,\t169,\t50,\t37,\t7,\t0,\t6,\t20,\t39,\t15,\t0,\t30,\t2,\t3,\t0,\t6,\t3,\t0,\t0.295857988,\t\t45,\t40,\t6,\t4,\t2,\t0,\t0,\t3,\t0,\t2,\t0,\t9,\t3,\t0,\t0,\t0,\t0,\t1,\t0.15,\t\t23,\t21,\t5,\t3,\t1,\t1,\t0,\t1,\t4,\t1,\t0,\t3,\t1,\t0,\t0,\t0,\t2,\t0,\t0.238095238,\t\t48,\t41,\t6,\t2,\t2,\t0,\t2,\t4,\t4,\t7,\t0,\t14,\t0,\t0,\t0,\t0,\t1,\t0,\t0.146341463,\t\t26,\t24,\t6,\t3,\t1,\t0,\t2,\t3,\t6,\t1,\t0,\t5,\t1,\t0,\t0,\t1,\t0,\t1,\t0.25,\t\t648,\t585,\t151,\t102,\t28,\t2,\t19,\t55,\t58,\t59,\t0,\t112,\t3,\t1,\t0,\t22,\t6,\t4,\t0.258119658,\t\t58,\t51,\t13,\t5,\t6,\t1,\t1,\t7,\t7,\t6,\t0,\t14,\t0,\t1,\t0,\t0,\t1,\t0,\t0.25490196,\t\t29,\t26,\t1,\t1,\t0,\t0,\t0,\t0,\t2,\t2,\t0,\t4,\t0,\t1,\t0,\t0,\t0,\t0,\t0.038461538,\t\t374,\t351,\t97,\t58,\t18,\t1,\t20,\t63,\t22,\t22,\t0,\t73,\t0,\t0,\t0,\t1,\t7,\t3,\t0.276353276]\n",
        "# gg2 = [1154,\t4.71,\t283,\t60,\t10,\t148,\t139,\t38,\t84,\t0,\t8,\t286,\t0.271,\t0.326,\t0.457,\t0.336,\t\t19,\t4.5,\t4,\t1,\t0,\t3,\t2,\t0,\t3,\t0,\t0,\t4,\t0.25,\t0.368,\t0.313,\t0.316,\t\t326,\t302,\t83,\t60,\t17,\t3,\t3,\t47,\t3,\t22,\t0,\t42,\t2,\t0,\t0,\t0,\t6,\t4,\t0.274834437,\t\t139,\t126,\t25,\t18,\t3,\t0,\t4,\t16,\t18,\t8,\t0,\t26,\t3,\t1,\t1,\t1,\t7,\t1,\t0.198412698,\t\t1026,\t909,\t242,\t127,\t58,\t3,\t54,\t145,\t150,\t91,\t1,\t144,\t12,\t10,\t4,\t16,\t39,\t10,\t0.266226622,\t\t189,\t169,\t50,\t37,\t7,\t0,\t6,\t20,\t39,\t15,\t0,\t30,\t2,\t3,\t0,\t6,\t3,\t0,\t0.295857988,\t\t45,\t40,\t6,\t4,\t2,\t0,\t0,\t3,\t0,\t2,\t0,\t9,\t3,\t0,\t0,\t0,\t0,\t1,\t0.15,\t\t23,\t21,\t5,\t3,\t1,\t1,\t0,\t1,\t4,\t1,\t0,\t3,\t1,\t0,\t0,\t0,\t2,\t0,\t0.238095238,\t\t48,\t41,\t6,\t2,\t2,\t0,\t2,\t4,\t4,\t7,\t0,\t14,\t0,\t0,\t0,\t0,\t1,\t0,\t0.146341463,\t\t26,\t24,\t6,\t3,\t1,\t0,\t2,\t3,\t6,\t1,\t0,\t5,\t1,\t0,\t0,\t1,\t0,\t1,\t0.25,\t\t648,\t585,\t151,\t102,\t28,\t2,\t19,\t55,\t58,\t59,\t0,\t112,\t3,\t1,\t0,\t22,\t6,\t4,\t0.258119658,\t\t58,\t51,\t13,\t5,\t6,\t1,\t1,\t7,\t7,\t6,\t0,\t14,\t0,\t1,\t0,\t0,\t1,\t0,\t0.25490196,\t\t29,\t26,\t1,\t1,\t0,\t0,\t0,\t0,\t2,\t2,\t0,\t4,\t0,\t1,\t0,\t0,\t0,\t0,\t0.038461538,\t\t374,\t351,\t97,\t58,\t18,\t1,\t20,\t63,\t22,\t22,\t0,\t73,\t0,\t0,\t0,\t1,\t7,\t3,\t0.276353276]\n",
        "gg = [4.71,\t283,\t60,\t10,\t148,\t139,\t38,\t84,\t0,\t8,\t286,\t0.271,\t0.326,\t0.457,\t0.336,\t\t\t4.5,\t4,\t1,\t0,\t3,\t2,\t0,\t3,\t0,\t0,\t4,\t0.25,\t0.368,\t0.313,\t0.316,\t\t\t302,\t83,\t60,\t17,\t3,\t3,\t47,\t3,\t22,\t0,\t42,\t2,\t0,\t0,\t0,\t6,\t4,\t0.274834437,\t\t\t126,\t25,\t18,\t3,\t0,\t4,\t16,\t18,\t8,\t0,\t26,\t3,\t1,\t1,\t1,\t7,\t1,\t0.198412698,\t\t\t909,\t242,\t127,\t58,\t3,\t54,\t145,\t150,\t91,\t1,\t144,\t12,\t10,\t4,\t16,\t39,\t10,\t0.266226622,\t\t\t169,\t50,\t37,\t7,\t0,\t6,\t20,\t39,\t15,\t0,\t30,\t2,\t3,\t0,\t6,\t3,\t0,\t0.295857988,\t\t\t40,\t6,\t4,\t2,\t0,\t0,\t3,\t0,\t2,\t0,\t9,\t3,\t0,\t0,\t0,\t0,\t1,\t0.15,\t\t\t21,\t5,\t3,\t1,\t1,\t0,\t1,\t4,\t1,\t0,\t3,\t1,\t0,\t0,\t0,\t2,\t0,\t0.238095238,\t\t\t41,\t6,\t2,\t2,\t0,\t2,\t4,\t4,\t7,\t0,\t14,\t0,\t0,\t0,\t0,\t1,\t0,\t0.146341463,\t\t\t24,\t6,\t3,\t1,\t0,\t2,\t3,\t6,\t1,\t0,\t5,\t1,\t0,\t0,\t1,\t0,\t1,\t0.25,\t\t\t585,\t151,\t102,\t28,\t2,\t19,\t55,\t58,\t59,\t0,\t112,\t3,\t1,\t0,\t22,\t6,\t4,\t0.258119658,\t\t\t51,\t13,\t5,\t6,\t1,\t1,\t7,\t7,\t6,\t0,\t14,\t0,\t1,\t0,\t0,\t1,\t0,\t0.25490196,\t\t\t26,\t1,\t1,\t0,\t0,\t0,\t0,\t2,\t2,\t0,\t4,\t0,\t1,\t0,\t0,\t0,\t0,\t0.038461538,\t\t\t351,\t97,\t58,\t18,\t1,\t20,\t63,\t22,\t22,\t0,\t73,\t0,\t0,\t0,\t1,\t7,\t3,\t0.276353276]\n",
        "\n",
        "with torch.no_grad():\n",
        "    x = torch.tensor(gg)\n",
        "    x = x.float()\n",
        "    output1 = net(x.view(1,num_features))\n",
        "    print(output1.item())\n",
        "    # print(np.sqrt(2))\n",
        "    # x = torch.tensor(gg2)\n",
        "    # x = x.float()\n",
        "    # output2 = net(x.view(1,num_features))\n",
        "    # print(output2.item())"
      ],
      "metadata": {
        "colab": {
          "base_uri": "https://localhost:8080/"
        },
        "id": "rLowQzue0wLu",
        "outputId": "a5b90fa3-b6f9-4acd-a506-02ffa9668afd"
      },
      "execution_count": null,
      "outputs": [
        {
          "output_type": "stream",
          "name": "stdout",
          "text": [
            "-33.95048522949219\n"
          ]
        }
      ]
    },
    {
      "cell_type": "code",
      "source": [],
      "metadata": {
        "id": "twXKNBt4ZtQ8"
      },
      "execution_count": null,
      "outputs": []
    },
    {
      "cell_type": "markdown",
      "source": [
        "With game included in state, no normalization, the incorrectly trending features for the pitchers are:\n",
        "\n",
        "Home: ER, SO, SLG\n",
        "Away: H, R, BB, SO, AVG, SLG\n",
        "\n",
        "\n",
        "With gamese excluded, TBF had too much weight\n"
      ],
      "metadata": {
        "id": "XgU_lkazb6ij"
      }
    },
    {
      "cell_type": "code",
      "source": [
        "with torch.no_grad():\n",
        "    # for data in test_dataloader:\n",
        "    x = torch.tensor(gg)\n",
        "    x = x.float()\n",
        "    # y = y.float()\n",
        "    # true_batch_size = len(y)\n",
        "    output1 = net(x.view(1,num_features))\n",
        "    print(output1)\n",
        "    x = torch.tensor(gg)\n",
        "    x = x.float()\n",
        "    # y = y.float()\n",
        "    # true_batch_size = len(y)\n",
        "    output1 = net(x.view(1,num_features))\n",
        "    print(output1)\n",
        "        # for i in range(len(y)):\n",
        "        #     if y[i].item() == round(output[i].item()):\n",
        "        #       correct +=1\n",
        "        #       if y[i].item()==1:\n",
        "        #         c_nrfi +=1\n",
        "        #         c_nrfi_l.append(output[i].item())\n",
        "        #       else:\n",
        "        #         c_nn +=1\n",
        "        #         c_nn_l.append(output[i].item())\n",
        "        #     else:\n",
        "        #       if y[i].item()==1:\n",
        "        #         w_nrfi +=1\n",
        "        #         w_nrfi_l.append(output[i].item())\n",
        "        #       else:\n",
        "        #         w_nn +=1\n",
        "        #         w_nn_l.append(output[i].item())\n",
        "        #     total+=1"
      ],
      "metadata": {
        "id": "8n3Ts9OI3piA",
        "colab": {
          "base_uri": "https://localhost:8080/"
        },
        "outputId": "9fe2d102-7e11-41d1-d153-c1dd3861af7c"
      },
      "execution_count": null,
      "outputs": [
        {
          "output_type": "stream",
          "name": "stdout",
          "text": [
            "tensor([[-33.9505]])\n",
            "tensor([[-33.9505]])\n"
          ]
        }
      ]
    },
    {
      "cell_type": "code",
      "source": [
        "class Test_Game:\n",
        "  def __init__(self, pitchers_HA, batters_HA, team_at_team_str):\n",
        "    self.pitch = pitchers_HA\n",
        "    self.bat = batters_HA\n",
        "    self.game_name = team_at_team_str\n",
        "    self.game_input = []\n",
        "\n",
        "  def build_state(self):\n",
        "    for pitcher in self.pitch:\n",
        "      pitcher_names = [pitcher, pitcher + ' Jr.', pitcher + ' II', pitcher + ' III', ]\n",
        "      pitch_data_row = pitch_data[pitch_data['Name'].isin(pitcher_names)]\n",
        "      if pitch_data_row.empty:\n",
        "        print(f'Error: No data found for pitcher {pitcher}. Skipping...')\n",
        "      pitch_data_row = pitch_data_row.iloc[:, 5:-1]\n",
        "      val = 0\n",
        "      for i in pitch_data_row:\n",
        "        self.game_input.append((pitch_data_row[i].sum() / len(pitch_data_row)))# / max_pitch_values[val])\n",
        "        val +=1\n",
        "    for batter in self.bat:\n",
        "      batter_names = [batter, batter + ' Jr.', batter + ' II', batter + ' III', ]\n",
        "      bat_data_row = bat_data[bat_data['Name'].isin(batter_names)]#bat_data['Name'],batter)]\n",
        "      if bat_data_row.empty:\n",
        "        print(f'Error: No data found for batter {batter}. Skipping...')\n",
        "      bat_data_row = bat_data_row.iloc[:, 5:-1]\n",
        "      col = 0\n",
        "      val = 0\n",
        "      for i in bat_data_row:\n",
        "        col+=1\n",
        "        self.game_input.append((bat_data_row[i].sum() / len(bat_data_row)))# / max_bat_values[val])\n",
        "        val += 1\n",
        "\n",
        "\n",
        "  def calc_nrfi(self, network):\n",
        "    with torch.no_grad():\n",
        "      x = torch.tensor(self.game_input)\n",
        "      x = x.float()\n",
        "      output1 = network(x.view(1,num_features))\n",
        "      print(self.game_name, ': ', output1.item(), ' NRFI score')"
      ],
      "metadata": {
        "id": "lkQMU7XNix6p"
      },
      "execution_count": null,
      "outputs": []
    },
    {
      "cell_type": "code",
      "source": [
        "# Guards at Royals\n",
        "#\n",
        "pitchers_HA = ['Seth Lugo', 'Logan Allen']\n",
        "batters_H = ['Maikel Garcia', 'Bobby Witt Jr.', 'Vinnie Pasquantino', 'Salvador Perez', 'Hunter Renfroe', 'Nick Loftin']\n",
        "batters_A = ['Steven Kwan', 'Daniel Schneemann', 'Jose Ramirez', 'Josh Naylor', 'Jhonkensy Noel', 'Andres Gimenez']\n",
        "\n",
        "batters_HA = batters_H + batters_A\n",
        "\n",
        "game = Test_Game(pitchers_HA, batters_HA, 'Guards at Royals')\n",
        "game.build_state()\n",
        "game.calc_nrfi(net)"
      ],
      "metadata": {
        "colab": {
          "base_uri": "https://localhost:8080/"
        },
        "id": "FKXK2UBwePh8",
        "outputId": "48bfae8f-c730-4f69-b5f1-9a08a4db749a"
      },
      "execution_count": null,
      "outputs": [
        {
          "output_type": "stream",
          "name": "stdout",
          "text": [
            "Error: No data found for batter Jhonkensy Noel. Skipping...\n",
            "Guards at Royals :  nan  NRFI score\n"
          ]
        },
        {
          "output_type": "stream",
          "name": "stderr",
          "text": [
            "<ipython-input-85-40340370e9a6>:29: RuntimeWarning: invalid value encountered in scalar divide\n",
            "  self.game_input.append((bat_data_row[i].sum() / len(bat_data_row)))# / max_bat_values[val])\n"
          ]
        }
      ]
    },
    {
      "cell_type": "code",
      "source": [
        "#Marlins at Phillies\n",
        "\n",
        "pitchers_HA = ['Ranger Suarez', 'Yonny Chirinos']\n",
        "batters_H = ['Bryson Stott', 'Trea Turner', 'Alec Bohm', 'Brandon Marsh', 'Nick Castellanos', 'Kody Clemens']\n",
        "batters_A = ['Jazz Chisholm Jr.', 'Otto Lopez', 'Bryan De La Cruz', 'Josh Bell', 'Jake Burger',  'Dane Myers']\n",
        "\n",
        "batters_HA = batters_H + batters_A\n",
        "\n",
        "batters_HA = batters_H + batters_A\n",
        "game = Test_Game(pitchers_HA, batters_HA, 'Marlins at Phillies')\n",
        "game.build_state()\n",
        "game.calc_nrfi(net)"
      ],
      "metadata": {
        "colab": {
          "base_uri": "https://localhost:8080/"
        },
        "id": "7VuWAqMBec3L",
        "outputId": "4394ebe0-c6f4-4365-c674-15c57bc74566"
      },
      "execution_count": null,
      "outputs": [
        {
          "output_type": "stream",
          "name": "stdout",
          "text": [
            "Marlins at Phillies :  19.632783889770508  NRFI score\n"
          ]
        }
      ]
    },
    {
      "cell_type": "code",
      "source": [
        "#Astros at Mets\n",
        "\n",
        "pitchers_HA = ['Luis Severino', 'Shawn Dubin']\n",
        "batters_H = ['Francisco Lindor', 'Brandon Nimmo', 'J.D. Martinez', 'Pete Alonso', 'DJ Stewart', 'Mark Vientos']\n",
        "batters_A = ['Jose Altuve', 'Alex Bregman', 'Yordan Alvarez', 'Yainer Diaz', 'Jake Meyers', 'Jon Singleton']\n",
        "\n",
        "batters_HA = batters_H + batters_A\n",
        "\n",
        "batters_HA = batters_H + batters_A\n",
        "game = Test_Game(pitchers_HA, batters_HA, 'Astros at Mets')\n",
        "game.build_state()\n",
        "game.calc_nrfi(net)"
      ],
      "metadata": {
        "colab": {
          "base_uri": "https://localhost:8080/"
        },
        "id": "rp6_DDHJgdWQ",
        "outputId": "e81e1624-3de1-420d-915d-409bbe60bead"
      },
      "execution_count": null,
      "outputs": [
        {
          "output_type": "stream",
          "name": "stdout",
          "text": [
            "Astros at Mets :  13.908802032470703  NRFI score\n"
          ]
        }
      ]
    },
    {
      "cell_type": "code",
      "source": [
        "#Reds at Cardinals\n",
        "\n",
        "pitchers_HA = ['Lance Lynn', 'Hunter Greene']\n",
        "batters_H = ['Masyn Winn', 'Alec Burleson', 'Willson Contreras', 'Paul Goldschmidt', 'Brendan Donovan', 'Nolan Arenado']\n",
        "batters_A = ['Jonathan India', 'Elly De La Cruz', 'Jeimer Candelario', 'Spencer Steer', 'Jake Fraley', 'Noelvi Marte']\n",
        "\n",
        "batters_HA = batters_H + batters_A\n",
        "\n",
        "batters_HA = batters_H + batters_A\n",
        "game = Test_Game(pitchers_HA, batters_HA, 'Reds at Cardinals')\n",
        "game.build_state()\n",
        "game.calc_nrfi(net)"
      ],
      "metadata": {
        "colab": {
          "base_uri": "https://localhost:8080/"
        },
        "id": "iTuGehwE3di1",
        "outputId": "33219742-210f-4e13-a5a1-8a5c59d5b67a"
      },
      "execution_count": null,
      "outputs": [
        {
          "output_type": "stream",
          "name": "stdout",
          "text": [
            "Reds at Cardinals :  -2.2923011779785156  NRFI score\n"
          ]
        }
      ]
    },
    {
      "cell_type": "code",
      "source": [
        "#Tigers at Angles\n",
        "\n",
        "pitchers_HA = ['Tyler Anderson', 'Casey Mize']\n",
        "batters_H = ['Nolan Schanuel', 'Luis Rengifo', 'Taylor Ward', 'Willie Calhoun', 'Miguel Sano', 'Logan O\\'Hoppe']\n",
        "batters_A = ['Matt Vierling', 'Andy Ibanez', 'Mark Canha', 'Riley Greene', 'Gio Urshela', 'Wenceel Perez']\n",
        "\n",
        "batters_HA = batters_H + batters_A\n",
        "\n",
        "batters_HA = batters_H + batters_A\n",
        "game = Test_Game(pitchers_HA, batters_HA, 'Tigers at Angles')\n",
        "game.build_state()\n",
        "game.calc_nrfi(net)\n",
        "# print(game.game_i)"
      ],
      "metadata": {
        "colab": {
          "base_uri": "https://localhost:8080/"
        },
        "id": "or6Xc49YQJKi",
        "outputId": "d5069241-7e90-493d-92cf-87e9a2c58259"
      },
      "execution_count": null,
      "outputs": [
        {
          "output_type": "stream",
          "name": "stdout",
          "text": [
            "Tigers at Angles :  -4.288339614868164  NRFI score\n"
          ]
        }
      ]
    },
    {
      "cell_type": "code",
      "source": [
        "#A's at Diamondbacks\n",
        "\n",
        "pitchers_HA = ['Tyler Anderson', 'Luis Medina']\n",
        "batters_H = ['Corbin Carroll', 'Ketel Marte', 'Joc Pederson', 'Christian Walker', 'Lourdes Gurriel Jr.', 'Jake McCarthy']\n",
        "batters_A = ['JJ Bleday', 'Miguel Andujar', 'Brent Rooker', 'Tyler Soderstrom', 'Kyle McCann', 'Tyler Nevin']\n",
        "\n",
        "batters_HA = batters_H + batters_A\n",
        "\n",
        "batters_HA = batters_H + batters_A\n",
        "game = Test_Game(pitchers_HA, batters_HA, 'A\\'s at Diamondbacks')\n",
        "game.build_state()\n",
        "game.calc_nrfi(net)\n",
        "# print(game.game_i)"
      ],
      "metadata": {
        "colab": {
          "base_uri": "https://localhost:8080/"
        },
        "id": "90gSzXgXyB_m",
        "outputId": "b974e805-a861-4edf-c1cc-81fed9986c36"
      },
      "execution_count": null,
      "outputs": [
        {
          "output_type": "stream",
          "name": "stdout",
          "text": [
            "A's at Diamondbacks :  4.391776084899902  NRFI score\n"
          ]
        }
      ]
    },
    {
      "cell_type": "code",
      "source": [
        "#Twins at Mariners\n",
        "\n",
        "pitchers_HA = ['Luis Castillo', 'Joe Ryan']\n",
        "batters_H = ['J.P. Crawford', 'Josh Rojas', 'Julio Rodriguez', 'Cal Raleigh', 'Luke Raley', 'Mitch Garver']\n",
        "batters_A = ['Willi Castro', 'Jose Miranda', 'Trevor Larnach', 'Royce Lewis', 'Carlos Santana', 'Byron Buxton']\n",
        "\n",
        "batters_HA = batters_H + batters_A\n",
        "\n",
        "batters_HA = batters_H + batters_A\n",
        "game = Test_Game(pitchers_HA, batters_HA, 'Twins at Mariners')\n",
        "game.build_state()\n",
        "game.calc_nrfi(net)\n",
        "# print(game.game_i)"
      ],
      "metadata": {
        "colab": {
          "base_uri": "https://localhost:8080/"
        },
        "id": "ElHPnlJ8yuOT",
        "outputId": "2f68d0fd-ef00-4623-f6ec-84c8e2653470"
      },
      "execution_count": null,
      "outputs": [
        {
          "output_type": "stream",
          "name": "stdout",
          "text": [
            "Twins at Mariners :  5.79992151260376  NRFI score\n"
          ]
        }
      ]
    },
    {
      "cell_type": "code",
      "source": [
        "game_input = []\n",
        "for pitcher in pitchers_HA:\n",
        "  pitcher_names = [pitcher, pitcher + ' Jr.', pitcher + ' II', pitcher + ' III', ]\n",
        "  pitch_data_row = pitch_data[pitch_data['Name'].isin(pitcher_names)]\n",
        "  if pitch_data_row.empty:\n",
        "    print(f'Error: No data found for pitcher {pitcher}. Skipping...')\n",
        "  pitch_data_row = pitch_data_row.iloc[:, 5:-1]\n",
        "  val = 0\n",
        "  for i in pitch_data_row:\n",
        "    game_input.append((pitch_data_row[i].sum() / len(pitch_data_row)))# / max_pitch_values[val])\n",
        "    val +=1\n",
        "for batter in batters_HA:\n",
        "  batter_names = [batter, batter + ' Jr.', batter + ' II', batter + ' III', ]\n",
        "  bat_data_row = bat_data[bat_data['Name'].isin(batter_names)]#bat_data['Name'],batter)]\n",
        "  if bat_data_row.empty:\n",
        "    print(f'Error: No data found for batter {batter}. Skipping...')\n",
        "  bat_data_row = bat_data_row.iloc[:, 5:-1]\n",
        "  col = 0\n",
        "  val = 0\n",
        "  for i in bat_data_row:\n",
        "    col+=1\n",
        "    game_input.append((bat_data_row[i].sum() / len(bat_data_row)))# / max_bat_values[val])\n",
        "    val += 1\n"
      ],
      "metadata": {
        "id": "aRui5XPXT2y1"
      },
      "execution_count": null,
      "outputs": []
    },
    {
      "cell_type": "code",
      "source": [
        "print(len(game_input))\n",
        "\n",
        "with torch.no_grad():\n",
        "    x = torch.tensor(game_input)\n",
        "    x = x.float()\n",
        "    output1 = net(x.view(1,num_features))\n",
        "    print(output1)\n"
      ],
      "metadata": {
        "colab": {
          "base_uri": "https://localhost:8080/"
        },
        "id": "xKZCowGHVeFH",
        "outputId": "7dc40e72-9fd7-493a-a3a9-01538399bb68"
      },
      "execution_count": null,
      "outputs": [
        {
          "output_type": "stream",
          "name": "stdout",
          "text": [
            "246\n",
            "tensor([[0.2590]])\n"
          ]
        }
      ]
    },
    {
      "cell_type": "code",
      "source": [],
      "metadata": {
        "id": "MlZClGskXEit"
      },
      "execution_count": null,
      "outputs": []
    }
  ]
}